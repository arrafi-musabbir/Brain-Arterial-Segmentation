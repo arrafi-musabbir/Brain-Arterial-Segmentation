{
  "nbformat": 4,
  "nbformat_minor": 0,
  "metadata": {
    "colab": {
      "name": "Arterial segmentation with U-net ",
      "provenance": [],
      "collapsed_sections": []
    },
    "kernelspec": {
      "name": "python3",
      "display_name": "Python 3"
    },
    "language_info": {
      "name": "python"
    },
    "accelerator": "GPU"
  },
  "cells": [
    {
      "cell_type": "code",
      "metadata": {
        "id": "sYXzS1FB7F8E"
      },
      "source": [
        "from google.colab import drive\n",
        "import gc\n",
        "gc.collect()\n",
        "drive.mount('/content/drive/') \n",
        "import os\n",
        "import numpy as np\n",
        "import nibabel as nib \n",
        "import matplotlib.pyplot as plt \n",
        "from keras.optimizers import SGD, Adagrad, Adadelta, RMSprop, Adam\n",
        "import tensorflow as tf\n",
        "%env SM_FRAMEWORK=tf.keras\n",
        "!pip install segmentation_models\n",
        "import segmentation_models as sm"
      ],
      "execution_count": null,
      "outputs": []
    },
    {
      "cell_type": "code",
      "metadata": {
        "id": "P3r3JKO4Io1k"
      },
      "source": [
        "%cd '/content/drive/MyDrive/Dataset'\n",
        "datasetPath = os.getcwd()\n",
        "# os.listdir()"
      ],
      "execution_count": null,
      "outputs": []
    },
    {
      "cell_type": "code",
      "metadata": {
        "id": "sNX2huS-NYX6"
      },
      "source": [
        "def generatingInputs(T1, groundtruth, sub):\n",
        "\n",
        "    t1, groundseg = reshaping(T1, groundtruth)\n",
        "\n",
        "    x_train = t1[0::2,:,:,:]\n",
        "    y_train = groundseg[0::2,:,:,:]\n",
        "\n",
        "    # print(\"x_train shape = \" + str(x_train.shape))\n",
        "    # print(\"y_train shape = \" + str(y_train.shape))\n",
        "\n",
        "    x_val = t1[1::2,:,:,:]\n",
        "    y_val = groundseg[1::2,:,:,:]\n",
        "\n",
        "    # print(\"x_val shape = \" + str(x_val.shape))\n",
        "    # print(\"y_val shape = \" + str(y_val.shape))\n",
        "    print(\"Ready for training {}\".format(sub))\n",
        "    return x_train, y_train, x_val, y_val\n",
        "# plt.subplot(1,2,1); plt.imshow(t1[75,:,:,0]); plt.title('input')\n",
        "# plt.subplot(1,2,2); plt.imshow(np.max(groundseg[60:65,:,:,0],axis=0)); plt.title('target')\n",
        "# plt.show()\n",
        "def reshaping(T1, groundtruth):\n",
        "    # print(\"swapping axes...\")\n",
        "    t1 = T1\n",
        "    groundseg = groundtruth\n",
        "    groundseg = np.swapaxes(groundseg,0,2)\n",
        "    t1 = np.swapaxes(t1,0,2)\n",
        "\n",
        "    # print(\"t1 shape = \" + str(t1.shape) + \" groundseg shape = \" + str(groundseg.shape))\n",
        "\n",
        "    # print(\"expanding dimensions and tiling input...\")\n",
        "    groundseg = np.expand_dims(groundseg,axis=3)\n",
        "    t1 = np.expand_dims(t1,axis=3)\n",
        "    t1 = np.tile(t1,[1,1,1,3])\n",
        "\n",
        "    return t1, groundseg\n",
        "    # print(\"t1 shape = \" + str(t1.shape) + \" groundseg shape = \" + str(groundseg.shape))"
      ],
      "execution_count": 3,
      "outputs": []
    },
    {
      "cell_type": "code",
      "metadata": {
        "id": "MTAR01luNbva"
      },
      "source": [
        "BACKBONE = 'resnet34'\n",
        "# preprocess_input = sm.get_preprocessing(BACKBONE)\n",
        "model = sm.Unet(BACKBONE, input_shape=(None,None,3), encoder_weights='imagenet')\n",
        "model.compile(\n",
        "    'Adam',\n",
        "    loss=sm.losses.bce_jaccard_loss,\n",
        "    metrics=[sm.metrics.iou_score],\n",
        ")"
      ],
      "execution_count": 4,
      "outputs": []
    },
    {
      "cell_type": "code",
      "metadata": {
        "id": "QVfhAQc3Eld8"
      },
      "source": [
        "model = tf.keras.models.load_model('Final model.h5', custom_objects={'binary_crossentropy_plus_jaccard_loss': sm.losses.bce_jaccard_loss, 'iou_score': sm.metrics.iou_score})\n"
      ],
      "execution_count": 8,
      "outputs": []
    },
    {
      "cell_type": "code",
      "metadata": {
        "id": "52I7tUPa33PC"
      },
      "source": [
        "i = 1\n",
        "for j in range(0,5):\n",
        "    sub = os.listdir()[j]\n",
        "    # if i==16:\n",
        "    #   break\n",
        "    groundseg = nib.load(sub+'/tof_arteries.nii.gz').get_fdata()\n",
        "    t1 = nib.load(sub+'/t1_in_tof.nii.gz').get_fdata()\n",
        "    print('Training {}'.format(sub))\n",
        "    x_train, y_train, x_val, y_val = generatingInputs(t1, groundseg, sub)\n",
        "    model.fit(\n",
        "        x=x_train,\n",
        "        y=y_train,\n",
        "        batch_size=16,\n",
        "        epochs=100,\n",
        "        validation_data=(x_val, y_val)\n",
        "    )\n",
        "model.save(\"Final model.h5\")"
      ],
      "execution_count": null,
      "outputs": []
    },
    {
      "cell_type": "code",
      "metadata": {
        "id": "k0mrUQC5Q4UE"
      },
      "source": [
        "groundseg = nib.load('/content/drive/MyDrive/Dataset/sub-20/tof_arteries.nii.gz').get_fdata()\n",
        "t1   = nib.load('/content/drive/MyDrive/Dataset/sub-20/t1_in_tof.nii.gz').get_fdata()\n",
        "t1, groundseg = reshaping(t1, groundseg)\n",
        "preds = model.predict(t1)\n",
        "print(preds.shape)\n",
        "plt.subplot(1,2,1);plt.imshow(np.max(preds[:,:,:,0],axis=0))\n",
        "plt.title('Sub-20 arterial segmentation')\n",
        "plt.subplot(1,2,2);plt.imshow(np.max(groundseg[:,:,:,0],axis=0))\n",
        "plt.title('Sub-20 ground truth')"
      ],
      "execution_count": null,
      "outputs": []
    },
    {
      "cell_type": "code",
      "metadata": {
        "id": "qlEAnp2fCPyo"
      },
      "source": [
        ""
      ],
      "execution_count": null,
      "outputs": []
    }
  ]
}